{
  "cells": [
    {
      "cell_type": "markdown",
      "metadata": {},
      "source": [
        "\n# Polynomial fits with differing support (Motorcycle data)\n"
      ]
    },
    {
      "cell_type": "code",
      "execution_count": null,
      "metadata": {
        "collapsed": false
      },
      "outputs": [],
      "source": [
        "import numpy as np\nimport matplotlib.pyplot as plt\nimport pandas as pd\n\nfrom sklearn.linear_model import LinearRegression\nfrom sklearn.pipeline import make_pipeline\nfrom sklearn.preprocessing import PolynomialFeatures\n\n# Get the data\ndata = pd.read_csv(\"../data/mcycle.csv\").dropna()\ntimes = data[\"times\"].to_numpy()\naccel = data[\"accel\"].to_numpy()\n\n\ndef make_grid(x, n=100):\n    return np.linspace(np.min(x), np.max(x), n)\n\n\n# Fit based on all data\nnew_times = make_grid(times)\nlm = make_pipeline(PolynomialFeatures(9), LinearRegression())\nlm.fit(times.reshape(-1, 1), accel)\nnew_accel = lm.predict(new_times.reshape(-1, 1))\n\n\n# Fit based on data where time is greater than 5ms\nmask = times > 5\ntimes_subset = times[mask]\naccel_subset = accel[mask]\nnew_times_subset = make_grid(times_subset)\nlm = make_pipeline(PolynomialFeatures(9), LinearRegression())\nlm.fit(times_subset.reshape(-1, 1), accel_subset)\nnew_accel_subset = lm.predict(new_times_subset.reshape(-1, 1))\n\n\n# Build the graph\nplt.figure(figsize=(6, 4), dpi=300)\nplt.scatter(times, accel, color=\"#000000\", s=2)\nplt.plot(new_times, new_accel, color=\"b\")\nplt.plot(new_times_subset, new_accel_subset, color=\"r\", linestyle=\"dashed\")\n\nplt.title(\"Polynomial fits to motor cycle helmet data\")\nplt.xlabel(\"Times (ms)\")\nplt.ylabel(\"Acceleration (g)\")\nplt.grid(linestyle=\"-\", color=\"#EEEEEE\", zorder=0)\nplt.show()"
      ]
    }
  ],
  "metadata": {
    "kernelspec": {
      "display_name": "Python 3",
      "language": "python",
      "name": "python3"
    },
    "language_info": {
      "codemirror_mode": {
        "name": "ipython",
        "version": 3
      },
      "file_extension": ".py",
      "mimetype": "text/x-python",
      "name": "python",
      "nbconvert_exporter": "python",
      "pygments_lexer": "ipython3",
      "version": "3.10.3"
    }
  },
  "nbformat": 4,
  "nbformat_minor": 0
}