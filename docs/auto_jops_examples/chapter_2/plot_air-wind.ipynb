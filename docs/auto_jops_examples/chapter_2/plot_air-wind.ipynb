{
  "cells": [
    {
      "cell_type": "markdown",
      "metadata": {},
      "source": [
        "\n# New York air quality data polynomial fits (air quality data)\n"
      ]
    },
    {
      "cell_type": "code",
      "execution_count": null,
      "metadata": {
        "collapsed": false
      },
      "outputs": [],
      "source": [
        "import numpy as np\nimport matplotlib.pyplot as plt\nimport pandas as pd\n\nfrom sklearn.linear_model import LinearRegression\nfrom sklearn.pipeline import make_pipeline\nfrom sklearn.preprocessing import PolynomialFeatures\n\n\n# Get the data\ndata = pd.read_csv(\"../data/airquality.csv\").dropna()\nwind = data[\"Wind\"].to_numpy()\nozone = data[\"Ozone\"].to_numpy()\n\n\n# Least squares linear\nnew_wind = np.arange(2, 21, 0.01)\nlm = LinearRegression().fit(wind.reshape(-1, 1), ozone)\nnew_ozone_linear = lm.predict(new_wind.reshape(-1, 1))\n\n\n# Least squares quadratic\nnew_wind = np.arange(2, 21, 0.01)\nqm = make_pipeline(PolynomialFeatures(2), LinearRegression())\nqm.fit(wind.reshape(-1, 1), ozone)\nnew_ozone_quadratic = qm.predict(new_wind.reshape(-1, 1))\n\n\n# Build the graph\nplt.figure(figsize=(6, 4), dpi=300)\nplt.scatter(wind, ozone, color=\"#000000\", s=2)\nplt.plot(new_wind, new_ozone_linear, color=\"b\", linestyle=\"dashed\")\nplt.plot(new_wind, new_ozone_quadratic, color=\"r\")\n\nplt.title(\"New York air quality\")\nplt.xlabel(\"Wind speed (mph)\")\nplt.ylabel(\"Ozone concentration (ppb)\")\nplt.grid(linestyle=\"-\", color=\"#EEEEEE\", zorder=0)\nplt.show()"
      ]
    }
  ],
  "metadata": {
    "kernelspec": {
      "display_name": "Python 3",
      "language": "python",
      "name": "python3"
    },
    "language_info": {
      "codemirror_mode": {
        "name": "ipython",
        "version": 3
      },
      "file_extension": ".py",
      "mimetype": "text/x-python",
      "name": "python",
      "nbconvert_exporter": "python",
      "pygments_lexer": "ipython3",
      "version": "3.10.3"
    }
  },
  "nbformat": 4,
  "nbformat_minor": 0
}