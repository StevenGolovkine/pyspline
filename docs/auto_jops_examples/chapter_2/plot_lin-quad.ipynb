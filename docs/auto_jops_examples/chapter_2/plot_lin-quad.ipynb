{
  "cells": [
    {
      "cell_type": "markdown",
      "metadata": {},
      "source": [
        "\n# Illustration of linear and quadratic B-spline bases\n"
      ]
    },
    {
      "cell_type": "code",
      "execution_count": null,
      "metadata": {
        "collapsed": false
      },
      "outputs": [],
      "source": [
        "import numpy as np\nimport matplotlib.pyplot as plt\nimport matplotlib.cm as cm\n\nfrom pyspline.basis import basis_bsplines\n\n\n# Basis on grid\nndx1 = 5\nndx2 = 6\ndeg1 = 1\ndeg2 = 2\nng = 500\nxmin = 0\nxmax = 4\nxg = np.linspace(xmin, xmax, ng)\nBg1 = basis_bsplines(\n    xg, n_functions=ndx1, degree=deg1, domain_min=xmin, domain_max=xmax\n)\nBg2 = basis_bsplines(\n    xg, n_functions=ndx2, degree=deg2, domain_min=xmin, domain_max=xmax\n)\n\n\n# For plotting\nBg1[Bg1 < 1e-4] = np.nan\nBg2[Bg2 < 1e-4] = np.nan\n\n\n# Build the graphs\nfig = plt.figure(figsize=(6, 4), dpi=300)\naxs = fig.subplots(1, 2, sharex=True)\n\ncolors = iter(cm.rainbow(np.linspace(0, 1, ndx1)))\nfor idx in np.arange(ndx1):\n    c = next(colors)\n    axs[0].plot(xg, Bg1[idx].T, color=c, zorder=4)\n\ncolors = iter(cm.rainbow(np.linspace(0, 1, ndx2)))\nfor idx in np.arange(ndx2):\n    c = next(colors)\n    axs[1].plot(xg, Bg2[idx].T, color=c, zorder=4)\n\naxs[0].axhline(y=0, color=\"k\", linewidth=0.2, zorder=3)\naxs[0].set_title(\"Linear B-splines\")\naxs[0].grid(linestyle=\"-\", color=\"#EEEEEE\", zorder=0)\n\naxs[1].axhline(y=0, color=\"k\", linewidth=0.2, zorder=3)\naxs[1].set_title(\"Quadratic B-splines\")\naxs[1].grid(linestyle=\"-\", color=\"#EEEEEE\", zorder=0)\n\nplt.show()"
      ]
    }
  ],
  "metadata": {
    "kernelspec": {
      "display_name": "Python 3",
      "language": "python",
      "name": "python3"
    },
    "language_info": {
      "codemirror_mode": {
        "name": "ipython",
        "version": 3
      },
      "file_extension": ".py",
      "mimetype": "text/x-python",
      "name": "python",
      "nbconvert_exporter": "python",
      "pygments_lexer": "ipython3",
      "version": "3.10.3"
    }
  },
  "nbformat": 4,
  "nbformat_minor": 0
}