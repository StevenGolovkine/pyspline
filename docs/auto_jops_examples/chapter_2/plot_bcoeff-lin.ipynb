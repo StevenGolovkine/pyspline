{
  "cells": [
    {
      "cell_type": "markdown",
      "metadata": {},
      "source": [
        "\n# View of linear B-spline coefficients\n"
      ]
    },
    {
      "cell_type": "code",
      "execution_count": null,
      "metadata": {
        "collapsed": false
      },
      "outputs": [],
      "source": [
        "import numpy as np\nimport matplotlib.pyplot as plt\nimport matplotlib.cm as cm\n\nfrom pyspline.psplines import PSplines\nfrom pyspline.basis import basis_bsplines\n\n\n# Set RNG\nrng = np.random.default_rng(42)\n\n\n# Simulate data\nn = 50\nx = np.linspace(0, 1, n)\ny = 0.3 + np.sin(1.2 * x + 0.3) + 0.15 * rng.normal(size=n)\n\n\n# Parameters\nndx = 13\ndeg = 1\n\n\n# A basis for plotting the fit on the grid xg\nng = 500\nxg = np.linspace(0, 1, ng)\nBg_wiggly = basis_bsplines(\n    xg, n_functions=ndx, degree=deg, domain_min=0, domain_max=1\n)\nBg_smooth = basis_bsplines(\n    xg, n_functions=ndx, degree=deg, domain_min=0, domain_max=1\n)\n\n\n# (Wiggly) Estimate the coefficients and compute the fit on the grid\nps_wiggly = PSplines(penalty=0.1, n_segments=(ndx - deg,), degree=(deg,))\nps_wiggly.fit(X=x.reshape(-1, 1), y=y)\nz_wiggly = ps_wiggly.predict(X=xg.reshape(-1, 1))\n\n\n# (Smooth) Estimate the coefficients and compute the fit on the grid\nps_smooth = PSplines(penalty=3, n_segments=(ndx - deg,), degree=(deg,))\nps_smooth.fit(X=x.reshape(-1, 1), y=y)\nz_smooth = ps_smooth.predict(X=xg.reshape(-1, 1))\n\n\n# Positions of the peaks of the B-splines\ndk = 1 / (ndx - deg)\nxa = np.arange(1, ndx + 1) * dk - (deg + 1) * dk / 2\n\n\n# Make a matrix with B-splines scaled by coefficients\nBsc_wiggly = np.diag(ps_wiggly.beta_hat_) @ Bg_wiggly\nBsc_wiggly[Bsc_wiggly < 1e-4] = np.nan\n\nBsc_smooth = np.diag(ps_smooth.beta_hat_) @ Bg_smooth\nBsc_smooth[Bsc_smooth < 1e-4] = np.nan\n\n\n# Build the graph\nfig = plt.figure(figsize=(6, 4), dpi=300)\naxs = fig.subplots(1, 2, sharex=True)\n\naxs[0].scatter(xa, ps_wiggly.beta_hat_, color=\"red\", s=10, zorder=4)\naxs[0].plot(xg, z_wiggly, color=\"#0047AB\", linewidth=2, zorder=3)\n\ncolors = iter(cm.rainbow(np.linspace(0, 1, ndx)))\nfor idx in np.arange(ndx):\n    c = next(colors)\n    axs[0].plot(xg, Bsc_wiggly[idx], color=c, zorder=3)\naxs[0].hlines(0, xmin=0, xmax=1, color=\"#000000\", linewidth=0.5)\naxs[0].grid(linestyle=\"-\", color=\"#EEEEEE\", zorder=0)\naxs[0].set_title(\"Wiggly curve\")\n\naxs[1].scatter(xa, ps_smooth.beta_hat_, color=\"red\", s=10, zorder=4)\naxs[1].plot(xg, z_smooth, color=\"#0047AB\", linewidth=2, zorder=3)\n\ncolors = iter(cm.rainbow(np.linspace(0, 1, ndx)))\nfor idx in np.arange(ndx):\n    c = next(colors)\n    axs[1].plot(xg, Bsc_smooth[idx], color=c, zorder=3)\naxs[1].hlines(0, xmin=0, xmax=1, color=\"#000000\", linewidth=0.5)\naxs[1].grid(linestyle=\"-\", color=\"#EEEEEE\", zorder=0)\naxs[1].set_title(\"Smooth curve\")\n\n\nplt.show()"
      ]
    }
  ],
  "metadata": {
    "kernelspec": {
      "display_name": "Python 3",
      "language": "python",
      "name": "python3"
    },
    "language_info": {
      "codemirror_mode": {
        "name": "ipython",
        "version": 3
      },
      "file_extension": ".py",
      "mimetype": "text/x-python",
      "name": "python",
      "nbconvert_exporter": "python",
      "pygments_lexer": "ipython3",
      "version": "3.10.3"
    }
  },
  "nbformat": 4,
  "nbformat_minor": 0
}