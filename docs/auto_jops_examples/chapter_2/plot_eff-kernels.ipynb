{
  "cells": [
    {
      "cell_type": "markdown",
      "metadata": {},
      "source": [
        "\n# Equivalent kernels of Whittaker smoother with second order penalty\n"
      ]
    },
    {
      "cell_type": "code",
      "execution_count": null,
      "metadata": {
        "collapsed": false
      },
      "outputs": [],
      "source": [
        "import numpy as np\nimport matplotlib.pyplot as plt\nimport matplotlib.cm as cm\n\n\n# Create the impulse\nn = 201\nx = np.arange(0, n, 1)\ny = np.zeros(n)\ny[n // 2] = 1\nlambdas = [1e0, 1e2, 1e4, 1e6]\n\n\n# Apply the Whittaker smoother with a difference penalty\nfig = plt.figure(figsize=(6, 4), dpi=300)\naxs = fig.subplots(2, 2, sharex=True)\n\nE = np.eye(n)\nfor idx_p, lamb in enumerate(lambdas):\n    D = np.diff(E, n=2, axis=0)\n    P = lamb * D.T @ D\n    H = np.linalg.pinv(E + P)\n\n    idxs = [0, 50, 100, 150, 200]\n    colors = iter(cm.rainbow(np.linspace(0, 1, len(idxs))))\n    for idx in idxs:\n        c = next(colors)\n        axs[idx_p // 2, idx_p % 2].plot(x, H[idx], color=c, zorder=4)\n    axs[idx_p // 2, idx_p % 2].grid(linestyle=\"-\", color='#EEEEEE', zorder=0)\n    axs[idx_p // 2, idx_p % 2].set_title(f\"$\\lambda$ = {lamb:.0e}\", size=5)"
      ]
    }
  ],
  "metadata": {
    "kernelspec": {
      "display_name": "Python 3",
      "language": "python",
      "name": "python3"
    },
    "language_info": {
      "codemirror_mode": {
        "name": "ipython",
        "version": 3
      },
      "file_extension": ".py",
      "mimetype": "text/x-python",
      "name": "python",
      "nbconvert_exporter": "python",
      "pygments_lexer": "ipython3",
      "version": "3.10.14"
    }
  },
  "nbformat": 4,
  "nbformat_minor": 0
}