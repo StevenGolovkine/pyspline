{
  "cells": [
    {
      "cell_type": "markdown",
      "metadata": {},
      "source": [
        "\n# Illustration B-splines differing number of segments (simulated data)\n"
      ]
    },
    {
      "cell_type": "code",
      "execution_count": null,
      "metadata": {
        "collapsed": false
      },
      "outputs": [],
      "source": [
        "import numpy as np\nimport matplotlib.pyplot as plt\nimport matplotlib.cm as cm\n\nfrom pyspline.psplines import PSplines\nfrom pyspline.basis import basis_bsplines\n\n\n# Set RNG\nrng = np.random.default_rng(42)\n\n\n# Simulate data\nn = 150\nx = np.linspace(0, 1, n)\ny = 0.3 + np.sin(1.2 * x + 0.3) + 0.15 * rng.normal(size=n)\n\n\n# Make a matrix containing the small B-spline basis\nndx_s = 8\ndeg = 3\nB_small = basis_bsplines(\n    x, n_functions=ndx_s, degree=deg, domain_min=0, domain_max=1\n)\n\n\n# Make a matrix containing the large B-spline basis\nndx_l = 18\ndeg = 3\nB_small = basis_bsplines(\n    x, n_functions=ndx_l, degree=deg, domain_min=0, domain_max=1\n)\n\n\n# A basis for plotting the fit on the grid xg\nng = 500\nxg = np.linspace(0, 1, ng)\nBg_small = basis_bsplines(\n    xg, n_functions=ndx_s, degree=deg, domain_min=0, domain_max=1\n)\nBg_large = basis_bsplines(\n    xg, n_functions=ndx_l, degree=deg, domain_min=0, domain_max=1\n)\n\n\n# (Small) Estimate the coefficients and compute the fit on the grid\nps_small = PSplines(penalty=0, n_segments=(ndx_s - deg,), degree=(deg,))\nps_small.fit(X=x.reshape(-1, 1), y=y)\nz_small = ps_small.predict(X=xg.reshape(-1, 1))\n\n\n# (Large) Estimate the coefficients and compute the fit on the grid\nps_large = PSplines(penalty=0, n_segments=(ndx_l - deg,), degree=(deg,))\nps_large.fit(X=x.reshape(-1, 1), y=y)\nz_large = ps_large.predict(X=xg.reshape(-1, 1))\n\n\n# Make a matrix with B-splines scaled by coefficients\nBsc_small = np.diag(ps_small.beta_hat_) @ Bg_small\nBsc_small[Bsc_small < 1e-4] = np.nan\n\nBsc_large = np.diag(ps_large.beta_hat_) @ Bg_large\nBsc_large[Bsc_large < 1e-4] = np.nan\n\n\n# Build the graph\nfig = plt.figure(figsize=(6, 4), dpi=300)\naxs = fig.subplots(1, 2, sharex=True)\n\naxs[0].scatter(x, y, color=\"#AAAAAA\", s=0.5, zorder=3)\naxs[0].plot(xg, z_small, color=\"#0047AB\", linewidth=2, zorder=6)\n\ncolors = iter(cm.rainbow(np.linspace(0, 1, ndx_s)))\nfor idx in np.arange(ndx_s):\n    c = next(colors)\n    axs[0].plot(xg, Bsc_small[idx], color=c, zorder=3)\naxs[0].hlines(0, xmin=0, xmax=1, color=\"#000000\", linewidth=0.5)\naxs[0].grid(linestyle=\"-\", color=\"#EEEEEE\", zorder=0)\naxs[0].set_title(\"Small basis\")\n\naxs[1].scatter(x, y, color=\"#AAAAAA\", s=0.5, zorder=3)\naxs[1].plot(xg, z_large, color=\"#0047AB\", linewidth=2, zorder=6)\n\ncolors = iter(cm.rainbow(np.linspace(0, 1, ndx_l)))\nfor idx in np.arange(ndx_l):\n    c = next(colors)\n    axs[1].plot(xg, Bsc_large[idx], color=c, zorder=3)\naxs[1].hlines(0, xmin=0, xmax=1, color=\"#000000\", linewidth=0.5)\naxs[1].grid(linestyle=\"-\", color=\"#EEEEEE\", zorder=0)\naxs[1].set_title(\"Large basis\")\n\nplt.show()"
      ]
    }
  ],
  "metadata": {
    "kernelspec": {
      "display_name": "Python 3",
      "language": "python",
      "name": "python3"
    },
    "language_info": {
      "codemirror_mode": {
        "name": "ipython",
        "version": 3
      },
      "file_extension": ".py",
      "mimetype": "text/x-python",
      "name": "python",
      "nbconvert_exporter": "python",
      "pygments_lexer": "ipython3",
      "version": "3.10.3"
    }
  },
  "nbformat": 4,
  "nbformat_minor": 0
}