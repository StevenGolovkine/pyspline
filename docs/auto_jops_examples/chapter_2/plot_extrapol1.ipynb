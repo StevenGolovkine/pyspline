{
  "cells": [
    {
      "cell_type": "markdown",
      "metadata": {},
      "source": [
        "\n# Illustration of interpolation and extrapolation by penalty order\n"
      ]
    },
    {
      "cell_type": "code",
      "execution_count": null,
      "metadata": {
        "collapsed": false
      },
      "outputs": [],
      "source": [
        "import numpy as np\nimport matplotlib.pyplot as plt\n\nfrom pyspline.psplines import PSplines\n\n\n# Set RNG\nrng = np.random.default_rng(42)\n\n\n# Simulate data\nm = 50\nx = rng.uniform(0, 1, m)\ny = np.sin(2.5 * x) + 0.05 * rng.normal(0, 1, m) + 0.2\n\n\n# Delete some data\nmask = np.array(\n    [(xx > 0.2 and xx < 0.4) or (xx > 0.6 and xx < 0.8) for xx in x]\n)\nx_sub = x[mask]\ny_sub = y[mask]\n\n\n# Parameters\nndx = 25\ndeg = 3\npen = 1\nxg = np.linspace(0, 1, 500)\nknots = (np.arange(1, ndx + deg + 1) - 2) / ndx\n\n\n# First order difference\nps_one = PSplines(\n    penalty=(pen,), n_segments=(ndx,), degree=(deg,), order_penalty=1\n)\nps_one.fit(X=x_sub.reshape(-1, 1), y=y_sub, domains=(0, 1))\ny_one = ps_one.predict(X=xg.reshape(-1, 1))\n\n\n# Second order difference\nps_two = PSplines(\n    penalty=(pen,), n_segments=(ndx,), degree=(deg,), order_penalty=2\n)\nps_two.fit(X=x_sub.reshape(-1, 1), y=y_sub, domains=(0, 1))\ny_two = ps_two.predict(X=xg.reshape(-1, 1))\n\n\n# Build the graph\nfig = plt.figure(figsize=(6, 4), dpi=300)\naxs = fig.subplots(1, 2, sharex=True)\n\naxs[0].scatter(x_sub, y_sub, color=\"#AAAAAA\", s=0.5, zorder=3)\naxs[0].plot(xg, y_one, color=\"#0047AB\", linewidth=1, zorder=4)\naxs[0].scatter(\n    knots, ps_one.beta_hat_, edgecolors=\"r\", facecolors=\"none\", s=5, zorder=5\n)\naxs[0].hlines(0, xmin=0, xmax=1, color=\"#000000\", linewidth=0.5)\naxs[0].grid(linestyle=\"-\", color=\"#EEEEEE\", zorder=0)\naxs[0].set_title(\"First differences\")\n\naxs[1].scatter(x_sub, y_sub, color=\"#AAAAAA\", s=0.5, zorder=3)\naxs[1].plot(xg, y_two, color=\"#0047AB\", linewidth=1, zorder=4)\naxs[1].scatter(\n    knots, ps_two.beta_hat_, edgecolors=\"r\", facecolors=\"none\", s=5, zorder=5\n)\naxs[1].hlines(0, xmin=0, xmax=1, color=\"#000000\", linewidth=0.5)\naxs[1].grid(linestyle=\"-\", color=\"#EEEEEE\", zorder=0)\naxs[1].set_title(\"Second differences\")\n\nplt.show()"
      ]
    }
  ],
  "metadata": {
    "kernelspec": {
      "display_name": "Python 3",
      "language": "python",
      "name": "python3"
    },
    "language_info": {
      "codemirror_mode": {
        "name": "ipython",
        "version": 3
      },
      "file_extension": ".py",
      "mimetype": "text/x-python",
      "name": "python",
      "nbconvert_exporter": "python",
      "pygments_lexer": "ipython3",
      "version": "3.10.3"
    }
  },
  "nbformat": 4,
  "nbformat_minor": 0
}