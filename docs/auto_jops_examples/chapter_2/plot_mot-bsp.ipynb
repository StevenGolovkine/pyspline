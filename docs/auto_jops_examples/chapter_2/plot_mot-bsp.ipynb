{
  "cells": [
    {
      "cell_type": "markdown",
      "metadata": {},
      "source": [
        "\n# B-spline fits having differing support (Motorcycle data)\n"
      ]
    },
    {
      "cell_type": "code",
      "execution_count": null,
      "metadata": {
        "collapsed": false
      },
      "outputs": [],
      "source": [
        "import numpy as np\nimport matplotlib.pyplot as plt\nimport pandas as pd\n\nfrom pyspline.psplines import PSplines\n\n\n# Get the data\ndata = pd.read_csv(\"../data/mcycle.csv\").dropna()\ntimes = data[\"times\"].to_numpy()\naccel = data[\"accel\"].to_numpy()\n\n\ndef make_grid(x, n=100):\n    return np.linspace(np.min(x), np.max(x), n)\n\n\n# Fit based on all data\nnew_times = make_grid(times, 1000)\nps = PSplines(n_segments=(5,), degree=(3,), penalty=(0,))\nps.fit(times.reshape(-1, 1), accel)\nnew_accel = ps.predict(new_times.reshape(-1, 1))\n\n\n# Fit based on data where time is greater than 5ms\nmask = times > 5\nsample_weights = np.zeros_like(accel)\nsample_weights[mask] = 1\nnew_times_subset = new_times[new_times > 5]\nps_subset = PSplines(n_segments=(5,), degree=(3,), penalty=(0,))\nps_subset.fit(times.reshape(-1, 1), accel, sample_weights=sample_weights)\nnew_accel_subset = ps_subset.predict(new_times_subset.reshape(-1, 1))\n\n\n# Build the graph\nplt.figure(figsize=(6, 4), dpi=300)\nplt.scatter(times, accel, color=\"#000000\", s=2, zorder=4)\nplt.plot(new_times, new_accel, color=\"b\", zorder=5)\nplt.plot(\n    new_times_subset, new_accel_subset, color=\"r\", linestyle=\"dashed\", zorder=5\n)\nplt.axhline(y=0, color=\"k\", linewidth=0.2, zorder=3)\n\nplt.title(\"Motor cycle helmet data\")\nplt.xlabel(\"Times (ms)\")\nplt.ylabel(\"Acceleration (g)\")\nplt.grid(linestyle=\"-\", color=\"#EEEEEE\", zorder=0)\nplt.show()"
      ]
    }
  ],
  "metadata": {
    "kernelspec": {
      "display_name": "Python 3",
      "language": "python",
      "name": "python3"
    },
    "language_info": {
      "codemirror_mode": {
        "name": "ipython",
        "version": 3
      },
      "file_extension": ".py",
      "mimetype": "text/x-python",
      "name": "python",
      "nbconvert_exporter": "python",
      "pygments_lexer": "ipython3",
      "version": "3.10.3"
    }
  },
  "nbformat": 4,
  "nbformat_minor": 0
}