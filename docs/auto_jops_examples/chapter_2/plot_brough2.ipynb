{
  "cells": [
    {
      "cell_type": "markdown",
      "metadata": {},
      "source": [
        "\n# B-spline fits with same basis having varying roughness\n"
      ]
    },
    {
      "cell_type": "code",
      "execution_count": null,
      "metadata": {
        "collapsed": false
      },
      "outputs": [],
      "source": [
        "import numpy as np\nimport matplotlib.pyplot as plt\nimport matplotlib.cm as cm\n\nfrom pyspline.basis import basis_bsplines\n\n\n# Set RNG\nrng = np.random.default_rng(42)\n\n\n# Make basis\nm = 200\nx = np.linspace(0, 1, m)\nnseg = 10\ndeg = 3\nn = nseg + deg\nB = basis_bsplines(x, n_functions=n)\n\n\n# Make coefficients\nA1 = rng.uniform(0, 1, n)\nA2 = 0.8 * np.sin(2 * np.arange(1, n + 1) / n) + rng.uniform(0, 1, n) * 0.2\nA3 = np.arange(1, n + 1) / n\nA4 = np.repeat(1, n)\nA = np.vstack([A1, A2, A3, A4])\nZ = A @ B\n\n\n# Generate the plots\nfig = plt.figure(figsize=(6, 4), dpi=300)\naxs = fig.subplots(2, 2, sharex=True)\n\nfor idx in np.arange(4):\n    # Compute roughness\n    Aj = A[idx]\n    R = np.sqrt(np.sum(np.diff(Aj) ** 2) / (n - 1))\n\n    # Scaled basis\n    Bsc = np.diag(Aj) @ B\n    # Remove zero entries\n    Bsc[Bsc < 1e-4] = np.nan\n\n    knots = (np.arange(1, n + 1) - 2) / nseg\n\n    axs[idx // 2, idx % 2].scatter(\n        knots, Aj, edgecolors=\"r\", facecolors=\"none\", zorder=3\n    )\n    axs[idx // 2, idx % 2].plot(x, Z[idx], c=\"b\", zorder=3)\n    colors = iter(cm.rainbow(np.linspace(0, 1, n)))\n    for j in np.arange(n):\n        c = next(colors)\n        axs[idx // 2, idx % 2].plot(x, Bsc[j], color=c, zorder=3)\n    axs[idx // 2, idx % 2].grid(linestyle=\"-\", color=\"#EEEEEE\", zorder=0)\n    axs[idx // 2, idx % 2].set_title(f\"r = {R:.2}\")"
      ]
    }
  ],
  "metadata": {
    "kernelspec": {
      "display_name": "Python 3",
      "language": "python",
      "name": "python3"
    },
    "language_info": {
      "codemirror_mode": {
        "name": "ipython",
        "version": 3
      },
      "file_extension": ".py",
      "mimetype": "text/x-python",
      "name": "python",
      "nbconvert_exporter": "python",
      "pygments_lexer": "ipython3",
      "version": "3.10.3"
    }
  },
  "nbformat": 4,
  "nbformat_minor": 0
}