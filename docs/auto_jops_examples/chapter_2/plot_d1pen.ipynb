{
  "cells": [
    {
      "cell_type": "markdown",
      "metadata": {},
      "source": [
        "\n# First order difference penalty in action with various tuning\n"
      ]
    },
    {
      "cell_type": "code",
      "execution_count": null,
      "metadata": {
        "collapsed": false
      },
      "outputs": [],
      "source": [
        "import numpy as np\nimport matplotlib.pyplot as plt\n\nfrom pyspline.psplines import PSplines\n\n\n# Set RNG\nrng = np.random.default_rng(42)\n\n\n# Simulate data\nm = 50\nx = rng.uniform(0, 1, m)\ny = np.sin(2.5 * x) + 0.1 * rng.normal(0, 1, m) + 0.2\n\n\n# Large grid\nnu = 200\nxg = np.linspace(0, 1, nu)\n\n\n# Basis parameters\nnseg = 20\ndeg = 3\nknots = (np.arange(1, nseg + deg + 1) - 2) / nseg\n\n\n# Generate the plots\nfig = plt.figure(figsize=(6, 4), dpi=300)\naxs = fig.subplots(2, 2, sharex=True)\n\npenalties = 2 * np.array([0.1, 1, 10, 100])\nfor idx, penalty in enumerate(penalties):\n    ps = PSplines(\n        penalty=(penalty,), n_segments=(nseg,), degree=(deg,), order_penalty=1\n    )\n    ps.fit(X=x.reshape(-1, 1), y=y)\n    y_pred = ps.predict(X=xg.reshape(-1, 1))\n\n    axs[idx // 2, idx % 2].scatter(\n        knots, ps.beta_hat_, edgecolors=\"r\", facecolors=\"none\", zorder=4\n    )\n    axs[idx // 2, idx % 2].scatter(x, y, c=\"#DDDDDD\", zorder=3)\n    axs[idx // 2, idx % 2].plot(xg, y_pred, color=\"b\", zorder=4)\n    axs[idx // 2, idx % 2].grid(linestyle=\"-\", color=\"#EEEEEE\", zorder=0)\n    axs[idx // 2, idx % 2].set_title(\n        (\n            f\"$\\lambda$ = {penalty} |\"\n            f\"s = {ps.diagnostics_['residuals_std']:.2} |\"\n            f\"r = {ps.diagnostics_['roughness']:.2}\"\n        ),\n        size=5,\n    )\n    axs[idx // 2, idx % 2].set_ylim((0, 1.5))"
      ]
    }
  ],
  "metadata": {
    "kernelspec": {
      "display_name": "Python 3",
      "language": "python",
      "name": "python3"
    },
    "language_info": {
      "codemirror_mode": {
        "name": "ipython",
        "version": 3
      },
      "file_extension": ".py",
      "mimetype": "text/x-python",
      "name": "python",
      "nbconvert_exporter": "python",
      "pygments_lexer": "ipython3",
      "version": "3.10.3"
    }
  },
  "nbformat": 4,
  "nbformat_minor": 0
}