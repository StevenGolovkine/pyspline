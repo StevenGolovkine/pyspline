{
  "cells": [
    {
      "cell_type": "markdown",
      "metadata": {},
      "source": [
        "\n# Smoothing of BMI and its derivative against age (boys7482 data)\n"
      ]
    },
    {
      "cell_type": "code",
      "execution_count": null,
      "metadata": {
        "collapsed": false
      },
      "outputs": [],
      "source": [
        "import numpy as np\nimport matplotlib.pyplot as plt\nimport pandas as pd\n\nfrom pyspline.psplines import PSplines\n\n\n# Set RNG\nrng = np.random.default_rng(42)\n\n\n# Get the data\ndata = pd.read_csv('../data/boys7482.csv')\ndata = data.query('age < 20').dropna(subset=['age', 'hgt'])\nage = data['age'].to_numpy()\nheight = data['hgt'].to_numpy()\n\n\n# Subset the data\nmask = rng.choice(age.shape[0], 1000)\nage = age[mask]\nheight = height[mask]\n\n\n# Fit the model\nps = PSplines(n_segments=(50,), degree=(3,), penalty=(100, ), order_penalty=2)\nps.fit(age.reshape(-1, 1), height, domains=(0, 20))\n\nnew_age = np.arange(0, 20, 0.1)\nnew_height = ps.predict(new_age.reshape(-1, 1))\n\n\n# Estimate the derivative\nheight_deriv = ps.derivative(new_age.reshape(-1, 1), order_derivative=1)\n\n\n# Build the graph\nfig = plt.figure(figsize=(6, 4), dpi=300)\naxs = fig.subplots(2, 1, sharex=True)\n\naxs[0].scatter(age, height, color=\"#AAAAAA\", s=0.5, zorder=3)\naxs[0].plot(new_age, new_height, color=\"#0047AB\", linewidth=1, zorder=4)\naxs[0].grid(linestyle=\"-\", color='#EEEEEE', zorder=0)\naxs[0].set_xlabel(\"Age\")\naxs[0].set_ylabel(\"Height (cm)\")\naxs[0].set_title(\"Heights of Dutch boys\")\n\naxs[1].plot(new_age, height_deriv, color=\"#0047AB\", linewidth=1, zorder=4)\naxs[1].grid(linestyle=\"-\", color='#EEEEEE', zorder=0)\naxs[1].set_xlabel(\"Age\")\naxs[1].set_ylabel(\"Growth speed (cm/y)\")\naxs[1].set_title(\"Growth speed of Dutch boys\")\n\nplt.tight_layout()\nplt.show()"
      ]
    }
  ],
  "metadata": {
    "kernelspec": {
      "display_name": "Python 3",
      "language": "python",
      "name": "python3"
    },
    "language_info": {
      "codemirror_mode": {
        "name": "ipython",
        "version": 3
      },
      "file_extension": ".py",
      "mimetype": "text/x-python",
      "name": "python",
      "nbconvert_exporter": "python",
      "pygments_lexer": "ipython3",
      "version": "3.10.3"
    }
  },
  "nbformat": 4,
  "nbformat_minor": 0
}