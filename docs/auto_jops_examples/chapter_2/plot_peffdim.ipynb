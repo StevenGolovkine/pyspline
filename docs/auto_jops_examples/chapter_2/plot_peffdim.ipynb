{
  "cells": [
    {
      "cell_type": "markdown",
      "metadata": {},
      "source": [
        "\n# Effective dimension with increased penalization\n"
      ]
    },
    {
      "cell_type": "code",
      "execution_count": null,
      "metadata": {
        "collapsed": false
      },
      "outputs": [],
      "source": [
        "import numpy as np\nimport matplotlib.pyplot as plt\nimport pandas as pd\n\nfrom pyspline.psplines import PSplines\n\n\n# Get the data\ndata = pd.read_csv(\"../data/mcycle.csv\").dropna()\ntimes = data[\"times\"].to_numpy()\naccel = data[\"accel\"].to_numpy()\n\n\n# Loops for log(lambda) and order d\nlambdas = np.arange(-5, 5.1, 0.1)\nllambdas = 10**lambdas\n\nED_1 = np.zeros_like(llambdas)\nfor idx, lamb in enumerate(llambdas):\n    ps = PSplines(\n        penalty=(lamb,), n_segments=(20,), degree=(3,), order_penalty=1\n    )\n    ps.fit(\n        X=times.reshape(-1, 1), y=accel, domains=(np.min(times), np.max(times))\n    )\n    ED_1[idx] = ps.diagnostics_[\"eff_dimension\"]\n\nED_2 = np.zeros_like(llambdas)\nfor idx, lamb in enumerate(llambdas):\n    ps = PSplines(\n        penalty=(lamb,), n_segments=(20,), degree=(3,), order_penalty=2\n    )\n    ps.fit(\n        X=times.reshape(-1, 1), y=accel, domains=(np.min(times), np.max(times))\n    )\n    ED_2[idx] = ps.diagnostics_[\"eff_dimension\"]\n\nED_3 = np.zeros_like(llambdas)\nfor idx, lamb in enumerate(llambdas):\n    ps = PSplines(\n        penalty=(lamb,), n_segments=(20,), degree=(3,), order_penalty=3\n    )\n    ps.fit(\n        X=times.reshape(-1, 1), y=accel, domains=(np.min(times), np.max(times))\n    )\n    ED_3[idx] = ps.diagnostics_[\"eff_dimension\"]\n\n\n# Build the graph\nplt.figure(figsize=(6, 4), dpi=300)\nplt.plot(lambdas, ED_1, zorder=4, linestyle=\"solid\", label=\"1\")\nplt.plot(lambdas, ED_2, zorder=4, linestyle=\"dashed\", label=\"2\")\nplt.plot(lambdas, ED_3, zorder=4, linestyle=\"dotted\", label=\"3\")\nplt.axhline(y=0, color=\"k\", linewidth=0.2, zorder=3)\nplt.ylim((-1, 25))\n\nplt.title(\"Effective dimensions, across penalty order\")\nplt.xlabel(\"log10($\\lambda$)\")\nplt.ylabel(\"ED\")\nplt.grid(linestyle=\"-\", color=\"#EEEEEE\", zorder=0)\nplt.legend(title=\"Order penalty\")\nplt.show()"
      ]
    }
  ],
  "metadata": {
    "kernelspec": {
      "display_name": "Python 3",
      "language": "python",
      "name": "python3"
    },
    "language_info": {
      "codemirror_mode": {
        "name": "ipython",
        "version": 3
      },
      "file_extension": ".py",
      "mimetype": "text/x-python",
      "name": "python",
      "nbconvert_exporter": "python",
      "pygments_lexer": "ipython3",
      "version": "3.10.3"
    }
  },
  "nbformat": 4,
  "nbformat_minor": 0
}