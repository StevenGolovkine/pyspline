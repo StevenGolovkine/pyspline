{
  "cells": [
    {
      "cell_type": "markdown",
      "metadata": {},
      "source": [
        "\n# P-spline fit with twice se bands, optimal on CV (Motorcyle data)\n"
      ]
    },
    {
      "cell_type": "code",
      "execution_count": null,
      "metadata": {
        "collapsed": false
      },
      "outputs": [],
      "source": [
        "import numpy as np\nimport matplotlib.pyplot as plt\nimport pandas as pd\n\nfrom pyspline.psplines import PSplines\n\n\n# Get the data\ndata = pd.read_csv(\"../data/mcycle.csv\").dropna()\ntimes = data[\"times\"].to_numpy()\naccel = data[\"accel\"].to_numpy()\n\n\ndef make_grid(x, n=100):\n    return np.linspace(np.min(x), np.max(x), n)\n\n\n# Fit based on all data\nnew_times = make_grid(times, 1000)\n\nps = PSplines(penalty=(0.8,), n_segments=(20,), degree=(3,), order_penalty=2)\nps.fit(times.reshape(-1, 1), accel)\nnew_accel = ps.predict(new_times.reshape(-1, 1))\nerrors = ps.errors(new_times.reshape(-1, 1))\n\n\n# Build the graph\nplt.figure(figsize=(6, 4), dpi=300)\nplt.scatter(times, accel, color=\"#999999\", s=4, zorder=4)\nplt.plot(new_times, new_accel, color=\"b\", zorder=5)\nplt.plot(\n    new_times, new_accel + 2 * errors, color=\"r\", linestyle=\"dashed\", zorder=5\n)\nplt.plot(\n    new_times, new_accel - 2 * errors, color=\"r\", linestyle=\"dashed\", zorder=5\n)\nplt.axhline(y=0, color=\"k\", linewidth=0.2, zorder=3)\n\nplt.title(\"P-spline fit to motorcycle helmet data\")\nplt.xlabel(\"Times (ms)\")\nplt.ylabel(\"Acceleration (g)\")\nplt.grid(linestyle=\"-\", color=\"#EEEEEE\", zorder=0)\nplt.show()"
      ]
    }
  ],
  "metadata": {
    "kernelspec": {
      "display_name": "Python 3",
      "language": "python",
      "name": "python3"
    },
    "language_info": {
      "codemirror_mode": {
        "name": "ipython",
        "version": 3
      },
      "file_extension": ".py",
      "mimetype": "text/x-python",
      "name": "python",
      "nbconvert_exporter": "python",
      "pygments_lexer": "ipython3",
      "version": "3.10.3"
    }
  },
  "nbformat": 4,
  "nbformat_minor": 0
}