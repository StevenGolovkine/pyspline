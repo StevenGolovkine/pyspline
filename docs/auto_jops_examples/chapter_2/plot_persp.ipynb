{
  "cells": [
    {
      "cell_type": "markdown",
      "metadata": {},
      "source": [
        "\n# B-splines in perspective\n"
      ]
    },
    {
      "cell_type": "code",
      "execution_count": null,
      "metadata": {
        "collapsed": false
      },
      "outputs": [],
      "source": [
        "import numpy as np\nimport matplotlib.pyplot as plt\nimport matplotlib.cm as cm\n\nfrom pyspline.basis import basis_bsplines\n\n\n# Basis on grid\nndx = 7\ndeg = 3\nng = 500\nxmin = 0\nxmax = 4\nxg = np.linspace(xmin, xmax, ng)\nBg = basis_bsplines(\n    xg, n_functions=ndx, degree=deg, domain_min=xmin, domain_max=xmax\n)\n\n\n# Make a matrix with B-splines scaled by coefficients\nBsc = Bg + np.outer(np.arange(1, ndx + 1), np.ones(ng))\n\n\n# Select one row, for visualization\nk = 160\nxk = xg[k]\nbk2 = Bg[:, k]\nbk1 = bk2 + np.arange(1, ndx + 1)\nbk2[bk2 < 1e-3] = np.nan\n\n\n# For plotting\nBg[Bg < 1e-4] = np.nan\n\n\n# Build the graphs\nfig = plt.figure(figsize=(6, 4), dpi=300)\naxs = fig.subplots(1, 2, sharex=True)\n\ncolors = iter(cm.rainbow(np.linspace(0, 1, ndx)))\nfor idx in np.arange(ndx):\n    c = next(colors)\n    axs[0].plot(xg, Bsc[idx].T, color=c, zorder=4)\n    axs[0].scatter(xk, bk1[idx], color=c, zorder=5)\n    axs[1].plot(xg, Bg[idx].T, color=c, zorder=4)\n    axs[1].scatter(xk, bk2[idx], color=c, zorder=5)\n\naxs[0].axvline(x=xk, color=\"k\", linestyle=\"dashed\", linewidth=1, zorder=3)\naxs[0].axhline(y=0, color=\"k\", linewidth=0.2, zorder=3)\naxs[0].set_title(\"Perspective view\")\naxs[0].grid(linestyle=\"-\", color=\"#EEEEEE\", zorder=0)\n\naxs[1].axvline(x=xk, color=\"k\", linestyle=\"dashed\", linewidth=1, zorder=3)\naxs[1].axhline(y=0, color=\"k\", linewidth=0.2, zorder=3)\naxs[1].set_title(\"Columns of a B-splines basis\")\naxs[1].grid(linestyle=\"-\", color=\"#EEEEEE\", zorder=0)\n\nplt.show()"
      ]
    }
  ],
  "metadata": {
    "kernelspec": {
      "display_name": "Python 3",
      "language": "python",
      "name": "python3"
    },
    "language_info": {
      "codemirror_mode": {
        "name": "ipython",
        "version": 3
      },
      "file_extension": ".py",
      "mimetype": "text/x-python",
      "name": "python",
      "nbconvert_exporter": "python",
      "pygments_lexer": "ipython3",
      "version": "3.10.3"
    }
  },
  "nbformat": 4,
  "nbformat_minor": 0
}