{
  "cells": [
    {
      "cell_type": "markdown",
      "metadata": {},
      "source": [
        "\n# Construction of quadratic B-splines from truncated power basis\n"
      ]
    },
    {
      "cell_type": "code",
      "execution_count": null,
      "metadata": {
        "collapsed": false
      },
      "outputs": [],
      "source": [
        "import numpy as np\nimport matplotlib.pyplot as plt\n\n\n# Compute the truncated linear functions\nm = 200\nu = np.linspace(0, 1, m)\nknt = np.array([0.2, 0.4, 0.6, 0.8])\nn = knt.shape[0]\nU = np.outer(u, np.repeat(1, n))\nK = np.outer(np.repeat(1, m), knt)\np = 2\nP = (U - K) ** p * (U > K)\n\n\n# Partial sums\nf0 = P[:, 0]\nf1 = P[:, 1]\nf2 = P[:, 2]\nf3 = P[:, 3]\n\n\n# Build the graph\nfig = plt.figure(figsize=(6, 4), dpi=300)\naxs = fig.subplots(2, 1, sharex=True)\n\naxs[0].plot(u, np.fliplr(P))\naxs[0].vlines(\n    knt, ymin=0, ymax=1, color=\"tab:orange\", linestyle=\"dashed\", linewidth=1\n)\naxs[0].hlines(0, xmin=-0.2, xmax=1.2, color=\"#000000\", linewidth=0.5)\naxs[0].grid(linestyle=\"-\", color=\"#EEEEEE\", zorder=0)\naxs[0].set_title(\"Four truncated quadratic functions\")\naxs[0].set_xlim((-0.1, 1.1))\naxs[0].set_ylim((-0.1, 0.6))\n\naxs[1].plot(u, f0 - 3 * f1 + 3 * f2 - f3, color=\"#AAAAAA\", linewidth=5)\naxs[1].plot(u, f0 - 3 * f1 + 3 * f2 - f3)\naxs[1].plot(u, f0 - 3 * f1 + 3 * f2)\naxs[1].plot(u, f0 - 3 * f1)\naxs[1].plot(u, f0)\naxs[1].vlines(\n    knt, ymin=-1, ymax=1, color=\"tab:orange\", linestyle=\"dashed\", linewidth=1\n)\naxs[1].hlines(0, xmin=-0.2, xmax=1.2, color=\"#000000\", linewidth=0.5)\naxs[1].grid(linestyle=\"-\", color=\"#EEEEEE\", zorder=0)\naxs[1].set_title(\"Steps in the construction of one quadratic B-spline\")\naxs[1].set_xlim((-0.1, 1.1))\naxs[1].set_ylim((-0.1, 0.1))\n\nplt.show()"
      ]
    }
  ],
  "metadata": {
    "kernelspec": {
      "display_name": "Python 3",
      "language": "python",
      "name": "python3"
    },
    "language_info": {
      "codemirror_mode": {
        "name": "ipython",
        "version": 3
      },
      "file_extension": ".py",
      "mimetype": "text/x-python",
      "name": "python",
      "nbconvert_exporter": "python",
      "pygments_lexer": "ipython3",
      "version": "3.10.3"
    }
  },
  "nbformat": 4,
  "nbformat_minor": 0
}