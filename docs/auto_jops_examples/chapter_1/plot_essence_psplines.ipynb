{
  "cells": [
    {
      "cell_type": "markdown",
      "metadata": {},
      "source": [
        "\n# Show the essence of P-splines\n"
      ]
    },
    {
      "cell_type": "code",
      "execution_count": null,
      "metadata": {
        "collapsed": false
      },
      "outputs": [],
      "source": [
        "import numpy as np\nimport matplotlib.pyplot as plt\nimport matplotlib.cm as cm\n\nfrom pyspline.psplines import PSplines\nfrom pyspline.basis import basis_bsplines\n\n# Set RNG\nrng = np.random.default_rng(42)\n\n\n# Simulate data\nn = 150\nx = np.linspace(0, 1, n)\ny = 0.3 + np.sin(1.2 * x + 0.3) + 0.15 * rng.normal(size=n)\n\n\n# Make a matrix containing the B-spline basis\nndx = 15\ndeg = 3\nB = basis_bsplines(x, n_functions=ndx, degree=deg, domain_min=0, domain_max=1)\n\n\n# A basis for plotting the fit on the grid xg\nng = 500\nxg = np.linspace(0, 1, ng)\nBg = basis_bsplines(xg, n_functions=ndx, degree=deg, domain_min=0, domain_max=1)\n\n\n# Positions of the peaks of the B-splines\ndk = 1 / (ndx - deg)\nxa = np.arange(1, ndx + 1) * dk - (deg + 1) * dk / 2\n\n\n# Estimate the coefficients and compute the fit on the grid\nps = PSplines(penalty=0.1, n_segments=(ndx - deg,), degree=(deg,))\nps.fit(X=x.reshape(-1, 1), y=y)\nz = ps.predict(X=xg.reshape(-1, 1))\n\n\n# Make a matrix with B-splines scaled by coefficients\nBsc = np.diag(ps.beta_hat_) @ Bg\nBsc[Bsc < 1e-4] = np.nan\n\n\n# Build the graph\nplt.figure(figsize=(6, 4), dpi=300)\nplt.plot(x, y, color=\"#AAAAAA\", linewidth=0.5, zorder=3)\nplt.scatter(x, y, color=\"#AAAAAA\", s=0.5, zorder=3)\nplt.plot(xg, z, color=\"#0047AB\", linewidth=2, zorder=6)\n\ncolors = iter(cm.rainbow(np.linspace(0, 1, ndx)))\nfor idx in np.arange(ndx):\n    c = next(colors)\n    plt.scatter(xa[idx], ps.beta_hat_[idx], color=c, zorder=6)\n    plt.plot(xg, Bsc[idx], color=c, zorder=3)\nplt.hlines(0, xmin=-0.1, xmax=1.1, color=\"#000000\", linewidth=0.5)\nplt.grid(linestyle=\"-\", color=\"#EEEEEE\", zorder=0)\nplt.show()"
      ]
    }
  ],
  "metadata": {
    "kernelspec": {
      "display_name": "Python 3",
      "language": "python",
      "name": "python3"
    },
    "language_info": {
      "codemirror_mode": {
        "name": "ipython",
        "version": 3
      },
      "file_extension": ".py",
      "mimetype": "text/x-python",
      "name": "python",
      "nbconvert_exporter": "python",
      "pygments_lexer": "ipython3",
      "version": "3.10.3"
    }
  },
  "nbformat": 4,
  "nbformat_minor": 0
}